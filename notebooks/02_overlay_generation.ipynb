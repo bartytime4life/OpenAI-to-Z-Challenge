{
 "cells": [
  {
   "cell_type": "markdown",
   "id": "56ad7e5f",
   "metadata": {},
   "source": [
    "# 🗺️ Overlay Generation"
   ]
  },
  {
   "cell_type": "markdown",
   "id": "3253a370",
   "metadata": {},
   "source": [
    "Create spatial overlays by converting data sources (e.g., CSV, SHP) into visual map layers."
   ]
  },
  {
   "cell_type": "code",
   "execution_count": null,
   "id": "8225e9f3",
   "metadata": {},
   "outputs": [],
   "source": [
    "import geopandas as gpd\n",
    "import matplotlib.pyplot as plt\n",
    "\n",
    "gdf = gpd.read_file('../outputs/overlays/kuhikugu_sites.geojson')\n",
    "gdf.plot(marker='o', color='red', figsize=(8, 6))\n",
    "plt.title('Kuhikugu Test AOI')\n",
    "plt.show()\n"
   ]
  },
  {
   "cell_type": "code",
   "execution_count": null,
   "id": "4f4c975d",
   "metadata": {},
   "outputs": [],
   "source": [
    "import geopandas as gpd\n",
    "import matplotlib.pyplot as plt\n",
    "\n",
    "# Load the GeoJSON overlay\n",
    "gdf = gpd.read_file('../outputs/overlays/kuhikugu_sites.geojson')\n",
    "\n",
    "# Plot the points\n",
    "gdf.plot(marker='o', color='red', edgecolor='black', figsize=(8, 6))\n",
    "plt.title('Kuhikugu Site Overlay')\n",
    "plt.xlabel('Longitude')\n",
    "plt.ylabel('Latitude')\n",
    "plt.grid(True)\n",
    "plt.show()\n"
   ]
  }
 ],
 "metadata": {
  "language_info": {
   "name": "python"
  }
 },
 "nbformat": 4,
 "nbformat_minor": 5
}
