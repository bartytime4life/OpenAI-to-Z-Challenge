{
 "cells": [
  {
   "cell_type": "markdown",
   "id": "56ad7e5f",
   "metadata": {},
   "source": [
    "# 🗺️ Overlay Generation"
   ]
  },
  {
   "cell_type": "markdown",
   "id": "3253a370",
   "metadata": {},
   "source": [
    "Create spatial overlays by converting data sources (e.g., CSV, SHP) into visual map layers."
   ]
  },
  {
   "cell_type": "code",
   "execution_count": null,
   "id": "8225e9f3",
   "metadata": {},
   "outputs": [],
   "source": [
    "import geopandas as gpd\n",
    "import matplotlib.pyplot as plt\n",
    "\n",
    "# Placeholder load\n",
    "# gdf = gpd.read_file('../data/archaeology/example.geojson')\n",
    "\n",
    "# gdf.plot()\n",
    "# plt.title('Sample Overlay')\n",
    "# plt.show()"
   ]
  }
 ],
 "metadata": {},
 "nbformat": 4,
 "nbformat_minor": 5
}
