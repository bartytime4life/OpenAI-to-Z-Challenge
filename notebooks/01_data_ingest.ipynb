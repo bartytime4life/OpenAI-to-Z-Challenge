{
 "cells": [
  {
   "cell_type": "markdown",
   "id": "ac984a10",
   "metadata": {},
   "source": [
    "# 📥 Data Ingestion & Organization"
   ]
  },
  {
   "cell_type": "markdown",
   "id": "1cdc3399",
   "metadata": {},
   "source": [
    "This notebook helps catalog and inspect raw data stored under `/data/` folders."
   ]
  },
  {
   "cell_type": "code",
   "execution_count": null,
   "id": "250e51ce",
   "metadata": {},
   "outputs": [],
   "source": [
    "import os\n",
    "\n",
    "base_path = '../data/'\n",
    "\n",
    "for root, dirs, files in os.walk(base_path):\n",
    "    level = root.replace(base_path, '').count(os.sep)\n",
    "    indent = ' ' * 2 * level\n",
    "    print(f'{indent}{os.path.basename(root)}/')\n",
    "    subindent = ' ' * 2 * (level + 1)\n",
    "    for f in files:\n",
    "        print(f'{subindent}{f}')"
   ]
  }
 ],
 "metadata": {},
 "nbformat": 4,
 "nbformat_minor": 5
}
