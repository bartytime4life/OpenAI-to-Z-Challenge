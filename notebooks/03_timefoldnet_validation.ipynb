{
 "cells": [
  {
   "cell_type": "markdown",
   "id": "ae52ac4b",
   "metadata": {},
   "source": [
    "# ⌛ TimefoldNet Epoch Validation"
   ]
  },
  {
   "cell_type": "markdown",
   "id": "6a10e447",
   "metadata": {},
   "source": [
    "Use paleoclimate data (e.g., SISAL, Neotoma) to validate cultural and environmental plausibility of AOIs."
   ]
  },
  {
   "cell_type": "code",
   "execution_count": null,
   "id": "2af33f53",
   "metadata": {},
   "outputs": [],
   "source": [
    "# Example Placeholder\n",
    "# Load paleoclimate core data and align with AOI temporal ranges\n",
    "\n",
    "# import pandas as pd\n",
    "# df = pd.read_csv('../data/cores/example_core.csv')\n",
    "# df.head()\n",
    "\n",
    "# Plot or align cultural epochs\n",
    "# TODO: Add data from SISAL v2 or Neotoma once files are loaded\n"
   ]
  }
 ],
 "metadata": {},
 "nbformat": 4,
 "nbformat_minor": 5
}
