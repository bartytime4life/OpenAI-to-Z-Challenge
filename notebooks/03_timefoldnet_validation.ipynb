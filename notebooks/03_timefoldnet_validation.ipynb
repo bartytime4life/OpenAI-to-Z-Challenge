{
 "cells": [
  {
   "cell_type": "markdown",
   "id": "ae52ac4b",
   "metadata": {},
   "source": [
    "# ⌛ TimefoldNet Epoch Validation"
   ]
  },
  {
   "cell_type": "code",
   "execution_count": null,
   "id": "cc76b444",
   "metadata": {},
   "outputs": [],
   "source": [
    "import matplotlib.pyplot as plt\n",
    "\n",
    "# Define climate windows from Illimani paleoclimate core\n",
    "timeline_data = [\n",
    "    {\"label\": \"Dry/Dust Spike\", \"start\": -2000, \"end\": -1000, \"color\": \"red\"},\n",
    "    {\"label\": \"Chiripa/Chavín Expansion\", \"start\": -800, \"end\": -200, \"color\": \"green\"},\n",
    "    {\"label\": \"Volatile Transition\", \"start\": -200, \"end\": 500, \"color\": \"orange\"},\n",
    "    {\"label\": \"Moche/Wari Stability\", \"start\": 500, \"end\": 1000, \"color\": \"green\"},\n",
    "    {\"label\": \"Post-Wari Collapse\", \"start\": 1000, \"end\": 1400, \"color\": \"red\"},\n",
    "    {\"label\": \"Inka Ascendancy\", \"start\": 1400, \"end\": 1532, \"color\": \"green\"},\n",
    "    {\"label\": \"Colonial Mining Spike\", \"start\": 1540, \"end\": 1800, \"color\": \"gray\"},\n",
    "    {\"label\": \"Industrial Era Signal\", \"start\": 1900, \"end\": 2000, \"color\": \"gray\"},\n",
    "]\n",
    "\n",
    "# Plotting\n",
    "fig, ax = plt.subplots(figsize=(12, 2))\n",
    "for phase in timeline_data:\n",
    "    ax.axvspan(phase[\"start\"], phase[\"end\"], color=phase[\"color\"], alpha=0.4, label=phase[\"label\"])\n",
    "\n",
    "ax.set_xlim(-2000, 2025)\n",
    "ax.set_ylim(0, 1)\n",
    "ax.set_yticks([])\n",
    "ax.set_xlabel(\"Year (BCE to CE)\")\n",
    "ax.set_title(\"🕰️ TimefoldNet Epoch Validation – Illimani Core Climate Phases\")\n",
    "\n",
    "# Unique legend\n",
    "handles, labels = ax.get_legend_handles_labels()\n",
    "unique = dict(zip(labels, handles))\n",
    "ax.legend(unique.values(), unique.keys(), loc=\"upper center\", bbox_to_anchor=(0.5, 1.4), ncol=4)\n",
    "\n",
    "plt.grid(True)\n",
    "plt.tight_layout()\n",
    "plt.show()\n"
   ]
  },
  {
   "cell_type": "markdown",
   "id": "6a10e447",
   "metadata": {},
   "source": [
    "Use paleoclimate data (e.g., SISAL, Neotoma) to validate cultural and environmental plausibility of AOIs."
   ]
  },
  {
   "cell_type": "code",
   "execution_count": null,
   "id": "d733d6ae",
   "metadata": {},
   "outputs": [],
   "source": [
    "import geopandas as gpd\n",
    "import matplotlib.pyplot as plt\n",
    "from shapely.geometry import Point\n",
    "\n",
    "# Define Kuhikugu AOI\n",
    "aoi_center = Point(-53.751, -11.571)\n",
    "aoi_gdf = gpd.GeoDataFrame([{\"name\": \"Kuhikugu\", \"geometry\": aoi_center}], crs=\"EPSG:4326\")\n",
    "\n",
    "# Define core locations\n",
    "core_data = [\n",
    "    {\"site_name\": \"Quelccaya\", \"geometry\": Point(-70.83, -13.93)},\n",
    "    {\"site_name\": \"Illimani\", \"geometry\": Point(-67.78, -16.65)},\n",
    "    {\"site_name\": \"Huascarán\", \"geometry\": Point(-77.61, -9.11)},\n",
    "    {\"site_name\": \"Tupungatito\", \"geometry\": Point(-69.81, -33.41)}\n",
    "]\n",
    "core_gdf = gpd.GeoDataFrame(core_data, crs=\"EPSG:4326\")\n",
    "\n",
    "# Plot it\n",
    "fig, ax = plt.subplots(figsize=(8, 6))\n",
    "core_gdf.plot(ax=ax, color='blue', markersize=60, label='Ice Cores')\n",
    "aoi_gdf.plot(ax=ax, color='red', markersize=100, label='Kuhikugu AOI')\n",
    "\n",
    "for idx, row in core_gdf.iterrows():\n",
    "    ax.annotate(row['site_name'], xy=(row.geometry.x, row.geometry.y), xytext=(3, 3), textcoords=\"offset points\")\n",
    "\n",
    "ax.set_title(\"📍 Paleoclimate Cores and Kuhikugu AOI\")\n",
    "ax.legend()\n",
    "plt.grid(True)\n",
    "plt.show()\n"
   ]
  },
  {
   "cell_type": "code",
   "execution_count": null,
   "id": "727eef30",
   "metadata": {},
   "outputs": [],
   "source": [
    "import pandas as pd\n",
    "import geopandas as gpd\n",
    "from shapely.geometry import Point\n",
    "\n",
    "# Load Kuhikugu site\n",
    "kuhi = gpd.read_file('../outputs/overlays/kuhikugu_sites.geojson')\n",
    "kuhi_center = kuhi.geometry.unary_union.centroid\n",
    "\n",
    "# Load paleoclimate cores\n",
    "cores_df = pd.read_csv('../data/cores/mock_climate_cores.csv')\n",
    "cores_gdf = gpd.GeoDataFrame(\n",
    "    cores_df,\n",
    "    geometry=[Point(lon, lat) for lat, lon in zip(cores_df['latitude'], cores_df['longitude'])],\n",
    "    crs=\"EPSG:4326\"\n",
    ")\n",
    "\n",
    "# Calculate distance to Kuhikugu center\n",
    "cores_gdf['distance_km'] = cores_gdf.geometry.distance(kuhi_center) * 111  # rough km conversion\n",
    "\n",
    "# Find nearest core\n",
    "nearest = cores_gdf.sort_values('distance_km').iloc[0]\n",
    "print(\"🔍 Nearest Core to Kuhikugu:\")\n",
    "print(nearest[['core_id', 'site_name', 'epochs', 'climate_phase', 'distance_km']])\n"
   ]
  },
  {
   "cell_type": "code",
   "execution_count": null,
   "id": "2af33f53",
   "metadata": {},
   "outputs": [],
   "source": [
    "# Example Placeholder\n",
    "# Load paleoclimate core data and align with AOI temporal ranges\n",
    "\n",
    "# import pandas as pd\n",
    "# df = pd.read_csv('../data/cores/example_core.csv')\n",
    "# df.head()\n",
    "\n",
    "# Plot or align cultural epochs\n",
    "# TODO: Add data from SISAL v2 or Neotoma once files are loaded\n"
   ]
  }
 ],
 "metadata": {
  "language_info": {
   "name": "python"
  }
 },
 "nbformat": 4,
 "nbformat_minor": 5
}
